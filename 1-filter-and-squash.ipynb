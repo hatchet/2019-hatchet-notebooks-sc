{
 "cells": [
  {
   "cell_type": "code",
   "execution_count": null,
   "metadata": {},
   "outputs": [],
   "source": [
    "import hatchet as ht\n",
    "\n",
    "gf = ht.GraphFrame.from_literal([{\n",
    "     'frame': {'name': 'main', 'type': 'function'},\n",
    "     'metrics': {'time (inc)': 200.0, 'time': 40.0},\n",
    "     'children': [\n",
    "         {\n",
    "             'frame': {'name': 'physics', 'type': 'function'},\n",
    "             'metrics': {'time (inc)': 60.0, 'time': 40.0},\n",
    "             'children': [\n",
    "                 {\n",
    "                     'frame': {'name': 'mpi', 'type': 'function'},\n",
    "                     'metrics': {'time (inc)': 20.0, 'time': 5.0},\n",
    "                     'children': [\n",
    "                         {\n",
    "                             'frame': {'name': 'psm2', 'type': 'function'},\n",
    "                             'metrics': {'time (inc)': 15.0, 'time': 15.0}\n",
    "                         },\n",
    "                     ]\n",
    "                 }\n",
    "             ]\n",
    "         },\n",
    "         {\n",
    "             'frame': {'name': 'solvers', 'type': 'function'},\n",
    "             'metrics': {'time (inc)': 100.0, 'time': 0.0},\n",
    "             'children': [\n",
    "                 {\n",
    "                     'frame': {'name': 'hypre', 'type': 'function'},\n",
    "                     'metrics': {'time (inc)': 65.0, 'time': 65.0},\n",
    "                 },\n",
    "                 {\n",
    "                     'frame': {'name': 'mpi', 'type': 'function'},\n",
    "                     'metrics': {'time (inc)': 35.0, 'time': 10.0},\n",
    "                     'children': [\n",
    "                         {\n",
    "                             'frame': {'name': 'psm2', 'type': 'function'},\n",
    "                             'metrics': {'time (inc)': 25.0, 'time': 25.0}\n",
    "                         },\n",
    "                     ]\n",
    "                 },\n",
    "             ]\n",
    "         },\n",
    "     ]\n",
    "}])\n",
    "\n",
    "print(gf.tree())"
   ]
  },
  {
   "cell_type": "code",
   "execution_count": null,
   "metadata": {},
   "outputs": [],
   "source": [
    "display(gf.dataframe)"
   ]
  },
  {
   "cell_type": "code",
   "execution_count": null,
   "metadata": {},
   "outputs": [],
   "source": [
    "filtered_gf = gf.filter(lambda x: x['time'] > 10.0, squash=False)\n",
    "display(filtered_gf.dataframe)"
   ]
  },
  {
   "cell_type": "code",
   "execution_count": null,
   "metadata": {},
   "outputs": [],
   "source": [
    "squashed_gf = filtered_gf.squash()\n",
    "print(squashed_gf.tree())"
   ]
  },
  {
   "cell_type": "code",
   "execution_count": null,
   "metadata": {},
   "outputs": [],
   "source": [
    "squashed_gf = gf.filter(lambda x: x['name'] in (\"main\", \"psm2\"))\n",
    "print(squashed_gf.tree())"
   ]
  }
 ],
 "metadata": {
  "kernelspec": {
   "display_name": "Python 3 (ipykernel)",
   "language": "python",
   "name": "python3"
  },
  "language_info": {
   "codemirror_mode": {
    "name": "ipython",
    "version": 3
   },
   "file_extension": ".py",
   "mimetype": "text/x-python",
   "name": "python",
   "nbconvert_exporter": "python",
   "pygments_lexer": "ipython3",
   "version": "3.9.4"
  }
 },
 "nbformat": 4,
 "nbformat_minor": 2
}
