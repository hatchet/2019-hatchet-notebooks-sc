{
 "cells": [
  {
   "cell_type": "code",
   "execution_count": null,
   "metadata": {},
   "outputs": [],
   "source": [
    "import hatchet as ht\n",
    "\n",
    "%matplotlib inline\n",
    "import pandas as pd\n",
    "import glob\n",
    "import re"
   ]
  },
  {
   "cell_type": "code",
   "execution_count": null,
   "metadata": {},
   "outputs": [],
   "source": [
    "datasets = glob.glob(\"data/lulesh-scaling/lulesh*.json\")\n",
    "datasets.sort()\n",
    "\n",
    "dataframes = []\n",
    "for dataset in datasets:\n",
    "    gf = ht.GraphFrame.from_caliper_json(dataset)\n",
    "    gf.drop_index_levels()\n",
    "    \n",
    "    num_pes = re.match(\"(.*)-(\\d+)(.*)\", dataset).group(2)\n",
    "    gf.dataframe[\"pes\"] = num_pes\n",
    "    filtered_gf = gf.filter(lambda x: x[\"time\"] > 1e6)\n",
    "    dataframes.append(filtered_gf.dataframe)\n",
    "\n",
    "result = pd.concat(dataframes)\n",
    "result[\"pes\"] = result[\"pes\"].apply(lambda x: '{0:0>3}'.format(x))\n",
    "pivot_df = result.pivot(index=\"pes\", columns=\"name\", values=\"time\")\n",
    "plt = pivot_df.loc[:,:].plot.bar(stacked=True, figsize=(10, 7), legend=False)\n",
    "plt.legend(loc='center left', bbox_to_anchor=(1, 0.5))\n",
    "plt.set_xlabel(\"Number of Processes\")\n",
    "plt.set_ylabel(\"Time (microsec)\")"
   ]
  }
 ],
 "metadata": {
  "kernelspec": {
   "display_name": "Python 3 (ipykernel)",
   "language": "python",
   "name": "python3"
  },
  "language_info": {
   "codemirror_mode": {
    "name": "ipython",
    "version": 3
   },
   "file_extension": ".py",
   "mimetype": "text/x-python",
   "name": "python",
   "nbconvert_exporter": "python",
   "pygments_lexer": "ipython3",
   "version": "3.9.4"
  }
 },
 "nbformat": 4,
 "nbformat_minor": 2
}
